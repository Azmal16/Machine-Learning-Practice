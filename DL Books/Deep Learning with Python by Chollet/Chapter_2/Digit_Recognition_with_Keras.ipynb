{
  "nbformat": 4,
  "nbformat_minor": 0,
  "metadata": {
    "colab": {
      "name": "Digit_Recognition_with_Keras.ipynb",
      "provenance": [],
      "collapsed_sections": [],
      "authorship_tag": "ABX9TyNDkvHCsXi69eALXa7uj0th",
      "include_colab_link": true
    },
    "kernelspec": {
      "name": "python3",
      "display_name": "Python 3"
    },
    "accelerator": "GPU"
  },
  "cells": [
    {
      "cell_type": "markdown",
      "metadata": {
        "id": "view-in-github",
        "colab_type": "text"
      },
      "source": [
        "<a href=\"https://colab.research.google.com/github/Azmal16/Machine_Learning_Practice/blob/master/DL%20Books/Deep%20Learning%20with%20Python%20by%20Chollet/Chapter_2/Digit_Recognition_with_Keras.ipynb\" target=\"_parent\"><img src=\"https://colab.research.google.com/assets/colab-badge.svg\" alt=\"Open In Colab\"/></a>"
      ]
    },
    {
      "cell_type": "markdown",
      "metadata": {
        "id": "dUcog6udH4JW",
        "colab_type": "text"
      },
      "source": [
        "##Importing Dataset\n",
        "The MNIST dataset comes preloaded in Keras, in the form of a set of four Numpy arrays."
      ]
    },
    {
      "cell_type": "code",
      "metadata": {
        "id": "Tzg8ZUqp1PJA",
        "colab_type": "code",
        "colab": {}
      },
      "source": [
        "from keras.datasets import mnist"
      ],
      "execution_count": 1,
      "outputs": []
    },
    {
      "cell_type": "markdown",
      "metadata": {
        "id": "RI34ED00ITm8",
        "colab_type": "text"
      },
      "source": [
        "##Loading Dataset\n"
      ]
    },
    {
      "cell_type": "code",
      "metadata": {
        "id": "X6RtfSbR3c05",
        "colab_type": "code",
        "colab": {
          "base_uri": "https://localhost:8080/",
          "height": 53
        },
        "outputId": "92717978-bb3a-4b05-f71d-9d0c77e074af"
      },
      "source": [
        "(train_images, train_labels), (test_images, test_labels) = mnist.load_data()"
      ],
      "execution_count": 2,
      "outputs": [
        {
          "output_type": "stream",
          "text": [
            "Downloading data from https://storage.googleapis.com/tensorflow/tf-keras-datasets/mnist.npz\n",
            "11493376/11490434 [==============================] - 0s 0us/step\n"
          ],
          "name": "stdout"
        }
      ]
    },
    {
      "cell_type": "markdown",
      "metadata": {
        "id": "tgo-B1sG9gcP",
        "colab_type": "text"
      },
      "source": [
        "##Looking at the Training Data:"
      ]
    },
    {
      "cell_type": "code",
      "metadata": {
        "id": "Vsp82Fu-3owD",
        "colab_type": "code",
        "colab": {
          "base_uri": "https://localhost:8080/",
          "height": 35
        },
        "outputId": "69ffe511-92be-47c3-9095-f78fdc13d75e"
      },
      "source": [
        "train_images.shape"
      ],
      "execution_count": 3,
      "outputs": [
        {
          "output_type": "execute_result",
          "data": {
            "text/plain": [
              "(60000, 28, 28)"
            ]
          },
          "metadata": {
            "tags": []
          },
          "execution_count": 3
        }
      ]
    },
    {
      "cell_type": "code",
      "metadata": {
        "id": "qYpUkJ5NRwzm",
        "colab_type": "code",
        "colab": {
          "base_uri": "https://localhost:8080/",
          "height": 35
        },
        "outputId": "76102897-8727-4dfd-b43e-2f9bba4e03ee"
      },
      "source": [
        "len(train_labels)"
      ],
      "execution_count": 4,
      "outputs": [
        {
          "output_type": "execute_result",
          "data": {
            "text/plain": [
              "60000"
            ]
          },
          "metadata": {
            "tags": []
          },
          "execution_count": 4
        }
      ]
    },
    {
      "cell_type": "code",
      "metadata": {
        "id": "AoMv3FM_R1eG",
        "colab_type": "code",
        "colab": {
          "base_uri": "https://localhost:8080/",
          "height": 35
        },
        "outputId": "e2ef1f41-26ae-4566-bc7e-2153674ad16f"
      },
      "source": [
        "train_labels"
      ],
      "execution_count": 5,
      "outputs": [
        {
          "output_type": "execute_result",
          "data": {
            "text/plain": [
              "array([5, 0, 4, ..., 5, 6, 8], dtype=uint8)"
            ]
          },
          "metadata": {
            "tags": []
          },
          "execution_count": 5
        }
      ]
    },
    {
      "cell_type": "markdown",
      "metadata": {
        "id": "SkJRjdaQSB4p",
        "colab_type": "text"
      },
      "source": [
        "##Looking at the Test Data:"
      ]
    },
    {
      "cell_type": "code",
      "metadata": {
        "id": "llJlpNhKR-wx",
        "colab_type": "code",
        "colab": {
          "base_uri": "https://localhost:8080/",
          "height": 35
        },
        "outputId": "94e55e8a-beee-4d99-8de2-b068b4559dbe"
      },
      "source": [
        "test_images.shape"
      ],
      "execution_count": 6,
      "outputs": [
        {
          "output_type": "execute_result",
          "data": {
            "text/plain": [
              "(10000, 28, 28)"
            ]
          },
          "metadata": {
            "tags": []
          },
          "execution_count": 6
        }
      ]
    },
    {
      "cell_type": "code",
      "metadata": {
        "id": "Pjt701TxSHTa",
        "colab_type": "code",
        "colab": {
          "base_uri": "https://localhost:8080/",
          "height": 35
        },
        "outputId": "662ce619-b9ec-45e4-d188-6227b308762d"
      },
      "source": [
        "len(test_labels)"
      ],
      "execution_count": 7,
      "outputs": [
        {
          "output_type": "execute_result",
          "data": {
            "text/plain": [
              "10000"
            ]
          },
          "metadata": {
            "tags": []
          },
          "execution_count": 7
        }
      ]
    },
    {
      "cell_type": "code",
      "metadata": {
        "id": "vqWiGS1TSMPX",
        "colab_type": "code",
        "colab": {
          "base_uri": "https://localhost:8080/",
          "height": 35
        },
        "outputId": "8f4cfcfa-e517-4cde-b076-fd348c08bb48"
      },
      "source": [
        "test_labels"
      ],
      "execution_count": 8,
      "outputs": [
        {
          "output_type": "execute_result",
          "data": {
            "text/plain": [
              "array([7, 2, 1, ..., 4, 5, 6], dtype=uint8)"
            ]
          },
          "metadata": {
            "tags": []
          },
          "execution_count": 8
        }
      ]
    },
    {
      "cell_type": "markdown",
      "metadata": {
        "id": "lVlXpxP_SzC4",
        "colab_type": "text"
      },
      "source": [
        "##Building the Network\n",
        "We will build the **Network** first and then we will feed it the Training Data (*train_images* and *train_labels*. The network will then learn to associate images and labels. Then we will let the Network predict from the *test_images* and then we will compare the result with the **Test data.**"
      ]
    },
    {
      "cell_type": "code",
      "metadata": {
        "id": "ncewwRt5SOTH",
        "colab_type": "code",
        "colab": {}
      },
      "source": [
        "from keras import models\n",
        "from keras import layers"
      ],
      "execution_count": 9,
      "outputs": []
    },
    {
      "cell_type": "code",
      "metadata": {
        "id": "gme9eNegS1eA",
        "colab_type": "code",
        "colab": {}
      },
      "source": [
        "network = models.Sequential()\n",
        "network.add(layers.Dense(512, activation='relu', input_shape=(28 * 28,))) \n",
        "network.add(layers.Dense(10, activation='softmax'))"
      ],
      "execution_count": 10,
      "outputs": []
    },
    {
      "cell_type": "markdown",
      "metadata": {
        "id": "J5Q-_GtMWkhP",
        "colab_type": "text"
      },
      "source": [
        "##The Compilation Step\n",
        "As part of the Compilation Step, we will get **three things** ready:\n",
        "1. A loss function: How the network will be able to measure its performance on the training data, and thus how it will be able to steer itself in the right direction.\n",
        "2. An optimizer: The mechanism through which the network will update itself based on the data it sees and its loss function.\n",
        "3. Metrics to monitor during training and testing: Here, we’ll only care about accuracy (the fraction of the images that were correctly classified)."
      ]
    },
    {
      "cell_type": "code",
      "metadata": {
        "id": "Q3DG8GnGWl-C",
        "colab_type": "code",
        "colab": {}
      },
      "source": [
        "network.compile(optimizer='rmsprop', \n",
        "                loss='categorical_crossentropy',\n",
        "                metrics=['accuracy'])\n"
      ],
      "execution_count": 11,
      "outputs": []
    },
    {
      "cell_type": "markdown",
      "metadata": {
        "id": "IwaDkG82X2v4",
        "colab_type": "text"
      },
      "source": [
        "##Preparing the image data\n",
        "We’ll preprocess the data by reshaping it into the shape the network expects and scaling it so that all values are in the [0, 1] interval."
      ]
    },
    {
      "cell_type": "code",
      "metadata": {
        "id": "ArSWC1VcX33-",
        "colab_type": "code",
        "colab": {}
      },
      "source": [
        "\n",
        "train_images = train_images.reshape((60000, 28 * 28)) \n",
        "train_images = train_images.astype('float32') / 255\n",
        "test_images = test_images.reshape((10000, 28 * 28)) \n",
        "test_images = test_images.astype('float32') / 255\n"
      ],
      "execution_count": 12,
      "outputs": []
    },
    {
      "cell_type": "markdown",
      "metadata": {
        "id": "mCGwED0EYBXD",
        "colab_type": "text"
      },
      "source": [
        "##Preparing the labels\n",
        "We will now categorically encode the labels."
      ]
    },
    {
      "cell_type": "code",
      "metadata": {
        "id": "gcZYeVsnYCGS",
        "colab_type": "code",
        "colab": {}
      },
      "source": [
        "from keras.utils import to_categorical"
      ],
      "execution_count": 13,
      "outputs": []
    },
    {
      "cell_type": "code",
      "metadata": {
        "id": "Emhcl7SxYIUS",
        "colab_type": "code",
        "colab": {}
      },
      "source": [
        "train_labels = to_categorical(train_labels)\n",
        "test_labels = to_categorical(test_labels)"
      ],
      "execution_count": 14,
      "outputs": []
    },
    {
      "cell_type": "markdown",
      "metadata": {
        "id": "jxM3E-VlYfkE",
        "colab_type": "text"
      },
      "source": [
        "##Fitting the model to its training data\n",
        "We’ll now train the network, which in Keras is done via a call to the network’s fit method—we fit the model to its training data."
      ]
    },
    {
      "cell_type": "code",
      "metadata": {
        "id": "pJi8iEg7YjOv",
        "colab_type": "code",
        "colab": {
          "base_uri": "https://localhost:8080/",
          "height": 287
        },
        "outputId": "0d1cac8d-2fc7-4f7d-b044-cf2f1947cc4a"
      },
      "source": [
        "network.fit(train_images, train_labels, epochs=7, batch_size=128)"
      ],
      "execution_count": 19,
      "outputs": [
        {
          "output_type": "stream",
          "text": [
            "Epoch 1/7\n",
            "469/469 [==============================] - 1s 3ms/step - loss: 0.0060 - accuracy: 0.9984\n",
            "Epoch 2/7\n",
            "469/469 [==============================] - 1s 3ms/step - loss: 0.0049 - accuracy: 0.9986\n",
            "Epoch 3/7\n",
            "469/469 [==============================] - 1s 3ms/step - loss: 0.0038 - accuracy: 0.9990\n",
            "Epoch 4/7\n",
            "469/469 [==============================] - 1s 3ms/step - loss: 0.0030 - accuracy: 0.9992\n",
            "Epoch 5/7\n",
            "469/469 [==============================] - 1s 3ms/step - loss: 0.0024 - accuracy: 0.9995\n",
            "Epoch 6/7\n",
            "469/469 [==============================] - 1s 3ms/step - loss: 0.0019 - accuracy: 0.9995\n",
            "Epoch 7/7\n",
            "469/469 [==============================] - 1s 3ms/step - loss: 0.0017 - accuracy: 0.9995\n"
          ],
          "name": "stdout"
        },
        {
          "output_type": "execute_result",
          "data": {
            "text/plain": [
              "<tensorflow.python.keras.callbacks.History at 0x7fdcc024c358>"
            ]
          },
          "metadata": {
            "tags": []
          },
          "execution_count": 19
        }
      ]
    },
    {
      "cell_type": "markdown",
      "metadata": {
        "id": "uVwmJuIUNBuU",
        "colab_type": "text"
      },
      "source": [
        "##Looking at the Accuracy \n",
        "Now, we will look at the Accuracy which our network has delivered."
      ]
    },
    {
      "cell_type": "code",
      "metadata": {
        "id": "XqdtezINaVhc",
        "colab_type": "code",
        "colab": {
          "base_uri": "https://localhost:8080/",
          "height": 53
        },
        "outputId": "753fcc15-0e82-46da-e338-1aae396c01df"
      },
      "source": [
        "test_loss, test_acc = network.evaluate(test_images, test_labels)\n",
        "print('test_acc:', test_acc)"
      ],
      "execution_count": 20,
      "outputs": [
        {
          "output_type": "stream",
          "text": [
            "313/313 [==============================] - 1s 2ms/step - loss: 0.0967 - accuracy: 0.9822\n",
            "test_acc: 0.982200026512146\n"
          ],
          "name": "stdout"
        }
      ]
    },
    {
      "cell_type": "markdown",
      "metadata": {
        "id": "oSaJGieWNQsz",
        "colab_type": "text"
      },
      "source": [
        "As we can see, our network has the accuracy of 98%. Which is pretty good."
      ]
    }
  ]
}