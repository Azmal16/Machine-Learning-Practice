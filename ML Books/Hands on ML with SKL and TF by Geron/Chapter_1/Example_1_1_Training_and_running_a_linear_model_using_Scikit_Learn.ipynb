{
  "nbformat": 4,
  "nbformat_minor": 0,
  "metadata": {
    "colab": {
      "name": "Example_1-1_Training and running a linear model using Scikit-Learn.ipynb",
      "provenance": [],
      "authorship_tag": "ABX9TyOXryr94Vtx2tgv/ZEeOrqu",
      "include_colab_link": true
    },
    "kernelspec": {
      "name": "python3",
      "display_name": "Python 3"
    }
  },
  "cells": [
    {
      "cell_type": "markdown",
      "metadata": {
        "id": "view-in-github",
        "colab_type": "text"
      },
      "source": [
        "<a href=\"https://colab.research.google.com/github/Azmal16/Machine_Learning_Practice/blob/master/ML%20Books/Hands%20on%20ML%20with%20SKL%20and%20TF%20by%20Geron/Chapter_1/Example_1_1_Training_and_running_a_linear_model_using_Scikit_Learn.ipynb\" target=\"_parent\"><img src=\"https://colab.research.google.com/assets/colab-badge.svg\" alt=\"Open In Colab\"/></a>"
      ]
    },
    {
      "cell_type": "markdown",
      "metadata": {
        "id": "q2pvtQO4V6hH",
        "colab_type": "text"
      },
      "source": [
        "\n",
        "\n",
        "###Importing Modules\n"
      ]
    },
    {
      "cell_type": "code",
      "metadata": {
        "id": "zC8E2B9YU0rC",
        "colab_type": "code",
        "colab": {}
      },
      "source": [
        "import matplotlib.pyplot as plt \n",
        "import numpy as np\n",
        "import pandas as pd\n",
        "import sklearn.linear_model"
      ],
      "execution_count": 3,
      "outputs": []
    },
    {
      "cell_type": "markdown",
      "metadata": {
        "id": "JfKIp4zGaFvp",
        "colab_type": "text"
      },
      "source": [
        "###Loading Datasets from GitHub"
      ]
    },
    {
      "cell_type": "code",
      "metadata": {
        "id": "JLgKkdbUbItO",
        "colab_type": "code",
        "colab": {}
      },
      "source": [
        "oecd_bli = pd.read_csv('https://raw.githubusercontent.com/Azmal16/Machine_Learning_Practice/master/ML%20Books/Hands%20on%20ML%20with%20SKL%20and%20TF%20by%20Geron/Datasets/Chapter_1/oecd_bli_2015.csv',thousands=',')\n",
        "gdp_per_capita = pd.read_csv('https://raw.githubusercontent.com/Azmal16/Machine_Learning_Practice/master/ML%20Books/Hands%20on%20ML%20with%20SKL%20and%20TF%20by%20Geron/Datasets/Chapter_1/gdp_per_capita.csv',thousands=',',delimiter='\\t',encoding='latin1', na_values=\"n/a\")"
      ],
      "execution_count": 42,
      "outputs": []
    },
    {
      "cell_type": "markdown",
      "metadata": {
        "id": "hPJMDv-TffGi",
        "colab_type": "text"
      },
      "source": [
        "###Preparing 'prepare_country_stats' method"
      ]
    },
    {
      "cell_type": "code",
      "metadata": {
        "id": "C5vSf7L4dp4R",
        "colab_type": "code",
        "colab": {}
      },
      "source": [
        "#don't worry if you don't get it now. w'll learn it later.\n",
        "\n",
        "def prepare_country_stats(oecd_bli, gdp_per_capita):\n",
        "    oecd_bli = oecd_bli[oecd_bli[\"INEQUALITY\"] == \"TOT\"]\n",
        "    oecd_bli = oecd_bli.pivot(\n",
        "        index=\"Country\", columns=\"Indicator\", values=\"Value\")\n",
        "    gdp_per_capita.rename(columns={\"2015\": \"GDP per capita\"}, inplace=True)\n",
        "    gdp_per_capita.set_index(\"Country\", inplace=True)\n",
        "    full_country_stats = pd.merge(left=oecd_bli, right=gdp_per_capita,\n",
        "                                  left_index=True, right_index=True)\n",
        "    full_country_stats.sort_values(by=\"GDP per capita\", inplace=True)\n",
        "    remove_indices = [0, 1, 6, 8, 33, 34, 35]\n",
        "    keep_indices = list(set(range(36)) - set(remove_indices))\n",
        " \n",
        "    return full_country_stats[[\"GDP per capita\", 'Life satisfaction']].iloc[keep_indices]"
      ],
      "execution_count": 43,
      "outputs": []
    },
    {
      "cell_type": "markdown",
      "metadata": {
        "id": "Am4_oHszf9-y",
        "colab_type": "text"
      },
      "source": [
        "###Preparing the data"
      ]
    },
    {
      "cell_type": "code",
      "metadata": {
        "id": "HkBV6UTtgB-A",
        "colab_type": "code",
        "colab": {}
      },
      "source": [
        "# Prepare the data\n",
        "country_stats = prepare_country_stats(oecd_bli, gdp_per_capita) \n",
        "X = np.c_[country_stats[\"GDP per capita\"]]\n",
        "y = np.c_[country_stats[\"Life satisfaction\"]]"
      ],
      "execution_count": 44,
      "outputs": []
    },
    {
      "cell_type": "markdown",
      "metadata": {
        "id": "FXg2h6jbgRDS",
        "colab_type": "text"
      },
      "source": [
        "###Visualizing the Data"
      ]
    },
    {
      "cell_type": "code",
      "metadata": {
        "id": "EzzaPxAUhbxj",
        "colab_type": "code",
        "colab": {
          "base_uri": "https://localhost:8080/",
          "height": 279
        },
        "outputId": "4c0aebe7-62e5-4d55-a454-2e0f9779eb36"
      },
      "source": [
        "# Visualize the data\n",
        "country_stats.plot(kind='scatter', x=\"GDP per capita\", y='Life satisfaction') \n",
        "plt.show()"
      ],
      "execution_count": 45,
      "outputs": [
        {
          "output_type": "display_data",
          "data": {
            "image/png": "[encoded data removed]",
            "text/plain": [
              "<Figure size 432x288 with 1 Axes>"
            ]
          },
          "metadata": {
            "tags": [],
            "needs_background": "light"
          }
        }
      ]
    },
    {
      "cell_type": "markdown",
      "metadata": {
        "id": "1sX1z7Wmhz1F",
        "colab_type": "text"
      },
      "source": [
        "###Selecting a Linear Model"
      ]
    },
    {
      "cell_type": "code",
      "metadata": {
        "id": "M1Xf9o7Lh7Ba",
        "colab_type": "code",
        "colab": {}
      },
      "source": [
        "model = sklearn.linear_model.LinearRegression()"
      ],
      "execution_count": 46,
      "outputs": []
    },
    {
      "cell_type": "markdown",
      "metadata": {
        "id": "0X7bFBh2h_Eg",
        "colab_type": "text"
      },
      "source": [
        "###Training the model"
      ]
    },
    {
      "cell_type": "code",
      "metadata": {
        "id": "c-cqt59wiDT8",
        "colab_type": "code",
        "colab": {
          "base_uri": "https://localhost:8080/",
          "height": 35
        },
        "outputId": "626c6868-b88b-4956-de31-ec3b58b84f4b"
      },
      "source": [
        "model.fit(X, y)"
      ],
      "execution_count": 47,
      "outputs": [
        {
          "output_type": "execute_result",
          "data": {
            "text/plain": [
              "LinearRegression(copy_X=True, fit_intercept=True, n_jobs=None, normalize=False)"
            ]
          },
          "metadata": {
            "tags": []
          },
          "execution_count": 47
        }
      ]
    },
    {
      "cell_type": "markdown",
      "metadata": {
        "id": "f7e7FSQ8j0oT",
        "colab_type": "text"
      },
      "source": [
        "###Visualizing our model"
      ]
    },
    {
      "cell_type": "code",
      "metadata": {
        "id": "W0dAFFoCj8QF",
        "colab_type": "code",
        "colab": {
          "base_uri": "https://localhost:8080/",
          "height": 265
        },
        "outputId": "8a174093-60dd-45ff-f612-678e27a39db8"
      },
      "source": [
        "for x in range(10, 50):\n",
        "    plot_x = 1000 * x\n",
        "    plot_y = float(model.predict([[plot_x]]))\n",
        "    plt.scatter(plot_x, plot_y, s=20, color='b')\n",
        "plt.show()"
      ],
      "execution_count": 48,
      "outputs": [
        {
          "output_type": "display_data",
          "data": {
            "image/png": "[encoded data removed]",
            "text/plain": [
              "<Figure size 432x288 with 1 Axes>"
            ]
          },
          "metadata": {
            "tags": [],
            "needs_background": "light"
          }
        }
      ]
    },
    {
      "cell_type": "markdown",
      "metadata": {
        "id": "z8HNKfUviKF9",
        "colab_type": "text"
      },
      "source": [
        "###Making prediction for Cyprus using Linear Regression"
      ]
    },
    {
      "cell_type": "code",
      "metadata": {
        "id": "1rk8kji2iNiB",
        "colab_type": "code",
        "colab": {
          "base_uri": "https://localhost:8080/",
          "height": 35
        },
        "outputId": "01421e53-f787-4d4a-db54-02f8c66e318d"
      },
      "source": [
        "X_new = [[22587]] # Cyprus's GDP per capita \n",
        "print(model.predict(X_new))"
      ],
      "execution_count": 49,
      "outputs": [
        {
          "output_type": "stream",
          "text": [
            "[[5.96242338]]\n"
          ],
          "name": "stdout"
        }
      ]
    },
    {
      "cell_type": "markdown",
      "metadata": {
        "id": "t6mv7xypkSNs",
        "colab_type": "text"
      },
      "source": [
        "###Trying the same with KNN Regression "
      ]
    },
    {
      "cell_type": "code",
      "metadata": {
        "id": "lUvbvXhvkeJH",
        "colab_type": "code",
        "colab": {}
      },
      "source": [
        "import sklearn.neighbors\n",
        "model = sklearn.neighbors.KNeighborsRegressor(\n",
        "n_neighbors=3)"
      ],
      "execution_count": 50,
      "outputs": []
    },
    {
      "cell_type": "code",
      "metadata": {
        "id": "3KPFwZNakoNP",
        "colab_type": "code",
        "colab": {
          "base_uri": "https://localhost:8080/",
          "height": 71
        },
        "outputId": "a665df2d-f432-40cc-9e9e-fa960b64cf5e"
      },
      "source": [
        "#Training\n",
        "model.fit(X, y)"
      ],
      "execution_count": 51,
      "outputs": [
        {
          "output_type": "execute_result",
          "data": {
            "text/plain": [
              "KNeighborsRegressor(algorithm='auto', leaf_size=30, metric='minkowski',\n",
              "                    metric_params=None, n_jobs=None, n_neighbors=3, p=2,\n",
              "                    weights='uniform')"
            ]
          },
          "metadata": {
            "tags": []
          },
          "execution_count": 51
        }
      ]
    },
    {
      "cell_type": "markdown",
      "metadata": {
        "id": "fBoVfMp6ktrS",
        "colab_type": "text"
      },
      "source": [
        "###Visualization"
      ]
    },
    {
      "cell_type": "code",
      "metadata": {
        "id": "xWxPo2zHlDNn",
        "colab_type": "code",
        "colab": {
          "base_uri": "https://localhost:8080/",
          "height": 265
        },
        "outputId": "94fbf4cf-33a9-41d7-d131-f29399b590ed"
      },
      "source": [
        "for x in range(10, 50):\n",
        "    plot_x = 1000 * x\n",
        "    plot_y = float(model.predict([[plot_x]]))\n",
        "    plt.scatter(plot_x, plot_y, s=20, color='b')\n",
        "plt.show()"
      ],
      "execution_count": 52,
      "outputs": [
        {
          "output_type": "display_data",
          "data": {
            "image/png": "[encoded data removed]",
            "text/plain": [
              "<Figure size 432x288 with 1 Axes>"
            ]
          },
          "metadata": {
            "tags": [],
            "needs_background": "light"
          }
        }
      ]
    },
    {
      "cell_type": "markdown",
      "metadata": {
        "id": "QYbt3v3xlW5D",
        "colab_type": "text"
      },
      "source": [
        "###Making Prediction for Cyprus using KNN Regression"
      ]
    },
    {
      "cell_type": "code",
      "metadata": {
        "id": "9uBuKJKzlhj-",
        "colab_type": "code",
        "colab": {
          "base_uri": "https://localhost:8080/",
          "height": 35
        },
        "outputId": "15a3c931-e031-4856-9ba5-3bc79bac9fa2"
      },
      "source": [
        "X_new = [[22587]] # Cyprus's GDP per capita \n",
        "print(model.predict(X_new))"
      ],
      "execution_count": 53,
      "outputs": [
        {
          "output_type": "stream",
          "text": [
            "[[5.76666667]]\n"
          ],
          "name": "stdout"
        }
      ]
    }
  ]
}