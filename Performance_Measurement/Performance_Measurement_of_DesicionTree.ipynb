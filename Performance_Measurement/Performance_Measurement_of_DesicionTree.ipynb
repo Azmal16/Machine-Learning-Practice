{
  "nbformat": 4,
  "nbformat_minor": 0,
  "metadata": {
    "colab": {
      "name": "Performance_Measurement_of_DesicionTree.ipynb",
      "provenance": [],
      "collapsed_sections": [],
      "authorship_tag": "ABX9TyM4qhQJPEYsabO6MnPp0whU",
      "include_colab_link": true
    },
    "kernelspec": {
      "name": "python3",
      "display_name": "Python 3"
    }
  },
  "cells": [
    {
      "cell_type": "markdown",
      "metadata": {
        "id": "view-in-github",
        "colab_type": "text"
      },
      "source": [
        "<a href=\"https://colab.research.google.com/github/Azmal16/Machine_Learning_Practice/blob/master/Performance_Measurement/Performance_Measurement_of_DesicionTree.ipynb\" target=\"_parent\"><img src=\"https://colab.research.google.com/assets/colab-badge.svg\" alt=\"Open In Colab\"/></a>"
      ]
    },
    {
      "cell_type": "markdown",
      "metadata": {
        "id": "t_a6f2l7J102"
      },
      "source": [
        "Loading Modules:"
      ]
    },
    {
      "cell_type": "code",
      "metadata": {
        "id": "tMMXlwJ22Xzg"
      },
      "source": [
        "from sklearn.tree import DecisionTreeClassifier\n",
        "import pandas as pd"
      ],
      "execution_count": 4,
      "outputs": []
    },
    {
      "cell_type": "markdown",
      "metadata": {
        "id": "wf_fwW1jJ6Ip"
      },
      "source": [
        "Loading Data from GitHub:\n",
        "\n",
        "> This data consists of Height, Weight and Gender of 10000 people.\n",
        "\n",
        "\n",
        "\n"
      ]
    },
    {
      "cell_type": "code",
      "metadata": {
        "id": "v-7J1eL--Oz8",
        "outputId": "a4e66051-1809-4db6-adce-01fc5be04370",
        "colab": {
          "base_uri": "https://localhost:8080/"
        }
      },
      "source": [
        "url = \"https://raw.githubusercontent.com/shashankvmaiya/Height-Weight-Gender-Classification/master/data/01_heights_weights_genders.csv\"\n",
        "dataset = pd.read_csv(url)\n",
        "print(dataset)"
      ],
      "execution_count": 5,
      "outputs": [
        {
          "output_type": "stream",
          "text": [
            "      Gender     Height      Weight\n",
            "0       Male  73.847017  241.893563\n",
            "1       Male  68.781904  162.310473\n",
            "2       Male  74.110105  212.740856\n",
            "3       Male  71.730978  220.042470\n",
            "4       Male  69.881796  206.349801\n",
            "...      ...        ...         ...\n",
            "9995  Female  66.172652  136.777454\n",
            "9996  Female  67.067155  170.867906\n",
            "9997  Female  63.867992  128.475319\n",
            "9998  Female  69.034243  163.852461\n",
            "9999  Female  61.944246  113.649103\n",
            "\n",
            "[10000 rows x 3 columns]\n"
          ],
          "name": "stdout"
        }
      ]
    },
    {
      "cell_type": "code",
      "metadata": {
        "id": "RlH0VyLT_NDf",
        "outputId": "0b3b3604-cc35-4e59-bae6-ff067167193b",
        "colab": {
          "base_uri": "https://localhost:8080/"
        }
      },
      "source": [
        "dataset.shape"
      ],
      "execution_count": 7,
      "outputs": [
        {
          "output_type": "execute_result",
          "data": {
            "text/plain": [
              "(10000, 3)"
            ]
          },
          "metadata": {
            "tags": []
          },
          "execution_count": 7
        }
      ]
    },
    {
      "cell_type": "markdown",
      "metadata": {
        "id": "_JjjpF7oCzo3"
      },
      "source": [
        "Defining Labels: (Y = Target attribute)"
      ]
    },
    {
      "cell_type": "code",
      "metadata": {
        "id": "wBpMB2aBBFp1"
      },
      "source": [
        "Y = dataset.iloc[:,:1].values\n",
        "X = dataset.iloc[:, 1:3].values "
      ],
      "execution_count": 25,
      "outputs": []
    },
    {
      "cell_type": "code",
      "metadata": {
        "id": "IJ2h4n9sB6K-",
        "outputId": "27df6ecd-a3b6-43f2-8266-7bc1b80db664",
        "colab": {
          "base_uri": "https://localhost:8080/"
        }
      },
      "source": [
        "X"
      ],
      "execution_count": 26,
      "outputs": [
        {
          "output_type": "execute_result",
          "data": {
            "text/plain": [
              "array([[ 73.84701702, 241.89356318],\n",
              "       [ 68.78190405, 162.31047252],\n",
              "       [ 74.11010539, 212.74085556],\n",
              "       ...,\n",
              "       [ 63.86799221, 128.47531878],\n",
              "       [ 69.03424313, 163.85246135],\n",
              "       [ 61.94424588, 113.64910268]])"
            ]
          },
          "metadata": {
            "tags": []
          },
          "execution_count": 26
        }
      ]
    },
    {
      "cell_type": "code",
      "metadata": {
        "id": "6zd20XAlB70Z",
        "outputId": "043059ee-a161-4e08-86f2-991e0410a4a8",
        "colab": {
          "base_uri": "https://localhost:8080/"
        }
      },
      "source": [
        "Y"
      ],
      "execution_count": 27,
      "outputs": [
        {
          "output_type": "execute_result",
          "data": {
            "text/plain": [
              "array([['Male'],\n",
              "       ['Male'],\n",
              "       ['Male'],\n",
              "       ...,\n",
              "       ['Female'],\n",
              "       ['Female'],\n",
              "       ['Female']], dtype=object)"
            ]
          },
          "metadata": {
            "tags": []
          },
          "execution_count": 27
        }
      ]
    },
    {
      "cell_type": "markdown",
      "metadata": {
        "id": "FiMEspshDFyx"
      },
      "source": [
        "Converting Gender to number"
      ]
    },
    {
      "cell_type": "code",
      "metadata": {
        "id": "QM0xDpG8C21x"
      },
      "source": [
        "# 1 == Male\n",
        "# 0 == Female\n",
        "from sklearn.preprocessing import LabelEncoder\n",
        "labelEncoder_gender =  LabelEncoder()\n",
        "Y = labelEncoder_gender.fit_transform(Y)"
      ],
      "execution_count": 29,
      "outputs": []
    },
    {
      "cell_type": "code",
      "metadata": {
        "id": "ttQCrL2wDe_c",
        "outputId": "8974c958-7c3e-4877-d57c-38eec6de29c2",
        "colab": {
          "base_uri": "https://localhost:8080/"
        }
      },
      "source": [
        "Y"
      ],
      "execution_count": 30,
      "outputs": [
        {
          "output_type": "execute_result",
          "data": {
            "text/plain": [
              "array([1, 1, 1, ..., 0, 0, 0])"
            ]
          },
          "metadata": {
            "tags": []
          },
          "execution_count": 30
        }
      ]
    },
    {
      "cell_type": "markdown",
      "metadata": {
        "id": "unVuFbo8ErHO"
      },
      "source": [
        "Splitting data into Training and Testing Set:"
      ]
    },
    {
      "cell_type": "code",
      "metadata": {
        "id": "MpYvLEeNDgK0"
      },
      "source": [
        "from sklearn.model_selection import train_test_split\n",
        "X_train, X_test, Y_train, Y_test = train_test_split(X, Y, test_size=0.25, random_state=0)\n"
      ],
      "execution_count": 31,
      "outputs": []
    },
    {
      "cell_type": "markdown",
      "metadata": {
        "id": "J3w1xRV0KMya"
      },
      "source": [
        "Fitting the Data into DT classifier model:"
      ]
    },
    {
      "cell_type": "code",
      "metadata": {
        "id": "SNRysqpCFOFk",
        "outputId": "ac48ae10-c774-48c4-a1dd-7f49d020e33a",
        "colab": {
          "base_uri": "https://localhost:8080/"
        }
      },
      "source": [
        "DT = DecisionTreeClassifier(random_state=0)\n",
        "DT.fit(X_train, Y_train)"
      ],
      "execution_count": 34,
      "outputs": [
        {
          "output_type": "execute_result",
          "data": {
            "text/plain": [
              "DecisionTreeClassifier(ccp_alpha=0.0, class_weight=None, criterion='gini',\n",
              "                       max_depth=None, max_features=None, max_leaf_nodes=None,\n",
              "                       min_impurity_decrease=0.0, min_impurity_split=None,\n",
              "                       min_samples_leaf=1, min_samples_split=2,\n",
              "                       min_weight_fraction_leaf=0.0, presort='deprecated',\n",
              "                       random_state=0, splitter='best')"
            ]
          },
          "metadata": {
            "tags": []
          },
          "execution_count": 34
        }
      ]
    },
    {
      "cell_type": "markdown",
      "metadata": {
        "id": "9IGZSaFXGNlA"
      },
      "source": [
        "Prediction:"
      ]
    },
    {
      "cell_type": "code",
      "metadata": {
        "id": "uhAleKIDFU8n"
      },
      "source": [
        "Y_pred = DT.predict(X_test)"
      ],
      "execution_count": 36,
      "outputs": []
    },
    {
      "cell_type": "markdown",
      "metadata": {
        "id": "vtfAeVwSGPOi"
      },
      "source": [
        "Evaluating Confusion Matrix:"
      ]
    },
    {
      "cell_type": "code",
      "metadata": {
        "id": "zMW7lPuBGRDd",
        "outputId": "6b707a32-2c60-4177-d802-1cc12bae8a5f",
        "colab": {
          "base_uri": "https://localhost:8080/"
        }
      },
      "source": [
        "from sklearn import metrics\n",
        "cm = metrics.confusion_matrix(Y_test, Y_pred) \n",
        "print(\"Confusion Matrix:\",cm)\n"
      ],
      "execution_count": 37,
      "outputs": [
        {
          "output_type": "stream",
          "text": [
            "[[1091  146]\n",
            " [ 175 1088]]\n",
            "Accuracy score: 0.8716\n",
            "Precision score: 0.8816855753646677\n",
            "Recall score: 0.8614410134600158\n"
          ],
          "name": "stdout"
        }
      ]
    },
    {
      "cell_type": "markdown",
      "metadata": {
        "id": "v69POlRXGzCH"
      },
      "source": [
        "Accuracy:"
      ]
    },
    {
      "cell_type": "code",
      "metadata": {
        "id": "tlHimWUyGmJ4",
        "outputId": "dbe63705-b667-41a4-c1d6-fc51cfa52803",
        "colab": {
          "base_uri": "https://localhost:8080/"
        }
      },
      "source": [
        "accuracy = ((1091 + 1088)/(1091+146+175+1088))\n",
        "print(accuracy)"
      ],
      "execution_count": 39,
      "outputs": [
        {
          "output_type": "stream",
          "text": [
            "0.8716\n"
          ],
          "name": "stdout"
        }
      ]
    },
    {
      "cell_type": "markdown",
      "metadata": {
        "id": "ZI86uR3EH606"
      },
      "source": [
        "Precision:"
      ]
    },
    {
      "cell_type": "code",
      "metadata": {
        "id": "1v9XWRIUH6ax",
        "outputId": "58ea5cca-ba85-48ae-e595-16a91ac55cdf",
        "colab": {
          "base_uri": "https://localhost:8080/"
        }
      },
      "source": [
        "precision = (1088/(1088+146))\n",
        "print(precision)"
      ],
      "execution_count": 40,
      "outputs": [
        {
          "output_type": "stream",
          "text": [
            "0.8816855753646677\n"
          ],
          "name": "stdout"
        }
      ]
    },
    {
      "cell_type": "markdown",
      "metadata": {
        "id": "cO3D4SkNIxkW"
      },
      "source": [
        "Recall/Sensitivity:"
      ]
    },
    {
      "cell_type": "code",
      "metadata": {
        "id": "Hz5DyESeI2fU",
        "outputId": "71d14b85-160e-4f32-f8e5-7dd075cd5369",
        "colab": {
          "base_uri": "https://localhost:8080/"
        }
      },
      "source": [
        "reall = (1088/(1088+175))\n",
        "print(recall)"
      ],
      "execution_count": 41,
      "outputs": [
        {
          "output_type": "stream",
          "text": [
            "0.8614410134600158\n"
          ],
          "name": "stdout"
        }
      ]
    },
    {
      "cell_type": "markdown",
      "metadata": {
        "id": "phtf-fXrJKJX"
      },
      "source": [
        "F1 Score:"
      ]
    },
    {
      "cell_type": "code",
      "metadata": {
        "id": "n6VEbu02JJug",
        "outputId": "d28e5ced-c414-438f-8ed2-7e7417d2b61f",
        "colab": {
          "base_uri": "https://localhost:8080/"
        }
      },
      "source": [
        "f1 = 2*(1/((1/precision)+(1/recall)))\n",
        "print(f1)"
      ],
      "execution_count": 42,
      "outputs": [
        {
          "output_type": "stream",
          "text": [
            "0.8714457348818583\n"
          ],
          "name": "stdout"
        }
      ]
    }
  ]
}